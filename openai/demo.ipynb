{
 "cells": [
  {
   "cell_type": "code",
   "execution_count": 2,
   "id": "bfcbcaaf-a107-44b2-9b4f-45efd33a7fd9",
   "metadata": {},
   "outputs": [],
   "source": [
    "from openai_client import OpenAIClient\n",
    "\n",
    "openai_client = OpenAIClient()"
   ]
  },
  {
   "cell_type": "code",
   "execution_count": 4,
   "id": "2b04fcaa-2a7e-42eb-8dec-30cf2ae8f230",
   "metadata": {},
   "outputs": [],
   "source": [
    "system_prompt = \"You are a helpful assistant with expertise in programming and technology.\"\n",
    "user_prompt = \"Explain the concept of recursion in programming.\""
   ]
  },
  {
   "cell_type": "code",
   "execution_count": 6,
   "id": "5d3b37d9-b44a-49fa-a404-f6d1a07c1b67",
   "metadata": {},
   "outputs": [
    {
     "name": "stderr",
     "output_type": "stream",
     "text": [
      "2024-08-02 09:05:02,803 - INFO - HTTP Request: POST https://api.openai.com/v1/chat/completions \"HTTP/1.1 200 OK\"\n",
      "2024-08-02 09:05:02,914 - INFO - Execution Time: 3.23 seconds\n",
      "2024-08-02 09:05:02,914 - INFO - Input Word Count: 18\n",
      "2024-08-02 09:05:02,914 - INFO - Output Word Count: 143\n"
     ]
    },
    {
     "name": "stdout",
     "output_type": "stream",
     "text": [
      "Recursion is a programming technique where a function calls itself in order to solve a problem. In a recursive function, the function keeps calling itself with a modified input until it reaches a base case, which is a specific condition that stops the recursion. \n",
      "\n",
      "Recursion is particularly useful when dealing with problems that can be broken down into smaller, similar sub-problems. It allows for elegant and concise solutions to complex problems, such as tree traversal, factorial calculation, and Fibonacci sequence generation.\n",
      "\n",
      "However, it's important to be cautious when using recursion, as it can lead to performance issues if not implemented carefully. Infinite recursion, where the base case is never reached, can also result in a stack overflow error.\n",
      "\n",
      "In summary, recursion is a powerful programming technique that can simplify the implementation of certain algorithms but should be used judiciously to avoid potential pitfalls.\n"
     ]
    }
   ],
   "source": [
    "result = openai_client.generate_response(system_prompt, user_prompt)\n",
    "print(result)"
   ]
  },
  {
   "cell_type": "code",
   "execution_count": null,
   "id": "9fd0071d-53e7-43ad-a272-00ff26adfe08",
   "metadata": {},
   "outputs": [],
   "source": []
  }
 ],
 "metadata": {
  "kernelspec": {
   "display_name": "Python (LLM)",
   "language": "python",
   "name": "llm"
  },
  "language_info": {
   "codemirror_mode": {
    "name": "ipython",
    "version": 3
   },
   "file_extension": ".py",
   "mimetype": "text/x-python",
   "name": "python",
   "nbconvert_exporter": "python",
   "pygments_lexer": "ipython3",
   "version": "3.11.9"
  }
 },
 "nbformat": 4,
 "nbformat_minor": 5
}

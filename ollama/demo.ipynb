{
 "cells": [
  {
   "cell_type": "code",
   "execution_count": 11,
   "id": "d8c06537-f53b-49d8-a7a4-85ad97bd8f17",
   "metadata": {},
   "outputs": [],
   "source": [
    "from ollama_client import LLMOllama"
   ]
  },
  {
   "cell_type": "code",
   "execution_count": 13,
   "id": "87f2af84-d4f8-4d74-a5e9-b856f0d5ecb0",
   "metadata": {},
   "outputs": [],
   "source": [
    "llm_ollama = LLMOllama()"
   ]
  },
  {
   "cell_type": "code",
   "execution_count": 15,
   "id": "6ffa429d-2de9-4ace-a466-60ef8856a96f",
   "metadata": {},
   "outputs": [],
   "source": [
    "system_prompt = \"You are a helpful assistant with expertise in programming and technology.\"\n",
    "user_prompt = \"Explain the concept of recursion in programming.\""
   ]
  },
  {
   "cell_type": "code",
   "execution_count": 17,
   "id": "1dc37120-7118-480f-b63a-c59fbef9e7b0",
   "metadata": {},
   "outputs": [
    {
     "name": "stderr",
     "output_type": "stream",
     "text": [
      "2024-08-02 08:37:39,045 - INFO - HTTP Request: POST http://127.0.0.1:11434/api/generate \"HTTP/1.1 200 OK\"\n",
      "2024-08-02 08:37:39,047 - INFO - Execution Time: 10.22 seconds\n",
      "2024-08-02 08:37:39,048 - INFO - Input Word Count: 18\n",
      "2024-08-02 08:37:39,049 - INFO - Output Word Count: 456\n"
     ]
    },
    {
     "name": "stdout",
     "output_type": "stream",
     "text": [
      "Recursion is a fundamental concept in computer science, particularly within programming languages where it enables functions to call themselves repeatedly as part of their execution. This process allows for solving problems that can be broken down into smaller and smaller sub-problems until these become simple enough to be solved directly.\n",
      "\n",
      "### Basic Idea Behind Recursion\n",
      "\n",
      "The essence of recursion lies in the following key components:\n",
      "\n",
      "1. **Base Case**: This is a condition where the function stops calling itself or changes its behavior if it encounters certain criteria being met. The base case acts as a stop condition that prevents infinite recursion and ensures the process will eventually terminate.\n",
      "\n",
      "2. **Recursive Case**: In this scenario, the function calls itself with a modified version of the input parameters that are either simpler versions of the original problem or steps closer to reaching the base case. This step is crucial for breaking down complex problems into smaller sub-problems.\n",
      "\n",
      "### How it Works\n",
      "\n",
      "Let's illustrate recursion through an example in pseudocode using a simple factorial calculation:\n",
      "\n",
      "```pseudocode\n",
      "function factorial(n):\n",
      "    if n == 1:\n",
      "        return 1 // Base Case: Factorial of 1 is 1\n",
      "    else:\n",
      "        return n * factorial(n-1) // Recursive Case: Factorial of n = n * (n-1)!\n",
      "```\n",
      "\n",
      "In this example:\n",
      "\n",
      "- **Base Case**: When `n` equals 1, the function stops calling itself and returns 1.\n",
      "- **Recursive Case**: For any other value of `n`, the function calls itself with `n-1` until it reaches the base case.\n",
      "\n",
      "### Key Points to Understand about Recursion\n",
      "\n",
      "1. **Memory Usage**: Each recursive call consumes memory on the stack for storing parameters, return addresses, and local variables. If recursion goes too deep (without a proper base case or stopping condition), it can lead to a `Stack Overflow` error.\n",
      "\n",
      "2. **Efficiency**: While recursive solutions are elegant and often more readable than their iterative counterparts, they can be less efficient due to the overhead of function calls compared to loops in iterative solutions. They also tend to use more memory on the call stack.\n",
      "\n",
      "3. **Termination Condition**: It is crucial that every recursive program has a termination condition (base case) else it will result in an infinite loop and potentially crash the system.\n",
      "\n",
      "4. **Tail Recursion Optimization**: Some programming languages or compilers can optimize tail recursion by converting it into loops under certain conditions, which can make recursive functions more efficient.\n",
      "\n",
      "### Recursive Algorithms\n",
      "\n",
      "Recursive algorithms are used widely across various domains:\n",
      "\n",
      "- **Mathematics (e.g., Fibonacci sequence)**\n",
      "- **Computer Science (e.g., Tree and Graph traversals like DFS/BFS)**\n",
      "- **Data Structures (e.g., Implementing Stack and Queue using linked lists)**\n",
      "\n",
      "By leveraging the power of recursion, programmers can write more concise and readable code for complex problems that might otherwise require extensive loops or complex iterative logic.\n"
     ]
    }
   ],
   "source": [
    "result = llm_ollama.generate_response(system_prompt, user_prompt)\n",
    "print(result)"
   ]
  },
  {
   "cell_type": "code",
   "execution_count": null,
   "id": "5c27d328-6e20-4b77-b5ba-6026e866c6e6",
   "metadata": {},
   "outputs": [],
   "source": []
  },
  {
   "cell_type": "code",
   "execution_count": null,
   "id": "42b1f5cc-5c4d-4ddc-809c-b2e8120cfa55",
   "metadata": {},
   "outputs": [],
   "source": []
  }
 ],
 "metadata": {
  "kernelspec": {
   "display_name": "Python (LLM)",
   "language": "python",
   "name": "llm"
  },
  "language_info": {
   "codemirror_mode": {
    "name": "ipython",
    "version": 3
   },
   "file_extension": ".py",
   "mimetype": "text/x-python",
   "name": "python",
   "nbconvert_exporter": "python",
   "pygments_lexer": "ipython3",
   "version": "3.11.9"
  }
 },
 "nbformat": 4,
 "nbformat_minor": 5
}

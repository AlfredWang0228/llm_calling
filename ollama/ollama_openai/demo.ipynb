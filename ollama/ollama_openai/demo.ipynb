{
 "cells": [
  {
   "cell_type": "code",
   "execution_count": 2,
   "id": "e49b9f0e-d023-4c84-bf97-e7f8fb6a83ee",
   "metadata": {},
   "outputs": [],
   "source": [
    "from flexible_llm_client import FlexibleLLMClient"
   ]
  },
  {
   "cell_type": "code",
   "execution_count": 4,
   "id": "90fdaef1-a1a6-4068-a64a-66461fc201f6",
   "metadata": {},
   "outputs": [
    {
     "name": "stdout",
     "output_type": "stream",
     "text": [
      "Artificial Intelligence (AI) refers to the development of computer systems that can perform tasks that would typically require human intelligence, such as:\n",
      "\n",
      "1. Learning: AI systems can learn from data and improve their performance over time.\n",
      "2. Reasoning: AI systems can draw conclusions based on data and make decisions.\n",
      "3. Problem-solving: AI systems can solve complex problems and optimize processes.\n",
      "4. Perception: AI systems can interpret and understand data from sensors, such as images, audio, and video.\n",
      "\n",
      "AI involves the use of machine learning algorithms, which are designed to analyze and learn from large datasets. These algorithms can be trained on vast amounts of data, allowing them to make predictions, classify objects, and even generate new ideas.\n",
      "\n",
      "There are several types of AI, including:\n",
      "\n",
      "1. Narrow or Weak AI: This type of AI is designed to perform a specific task, such as playing chess or recognizing faces.\n",
      "2. General or Strong AI: This type of AI is capable of performing any intellectual task that a human can.\n",
      "3. Superintelligence: This type of AI is significantly more intelligent than the best human minds.\n",
      "\n",
      "AI has many applications in various fields, including:\n",
      "\n",
      "1. Healthcare: AI can help with diagnosis, treatment planning, and patient care.\n",
      "2. Finance: AI can analyze data to make investment decisions and detect fraud.\n",
      "3. Education: AI can create personalized learning plans and automate grading.\n",
      "4. Transportation: AI can improve traffic flow and optimize routes.\n",
      "\n",
      "I hope this helps you understand what AI is! Do you have any specific questions about AI?\n"
     ]
    }
   ],
   "source": [
    "llm_client = FlexibleLLMClient()\n",
    "\n",
    "# 使用默认参数\n",
    "response = llm_client.generate_response(\"What is AI?\")\n",
    "print(response)"
   ]
  },
  {
   "cell_type": "code",
   "execution_count": 5,
   "id": "f0132e97-30d3-4266-a465-c75c3e7343ee",
   "metadata": {},
   "outputs": [],
   "source": [
    "# 使用自定义参数\n",
    "custom_response = llm_client.generate_response(\n",
    "    \"What is AI?\",\n",
    "    temperature=0,\n",
    "    max_tokens=1000,\n",
    "    system_prompt=\"You are an assistant that always ask back to the user.\"\n",
    ")"
   ]
  },
  {
   "cell_type": "code",
   "execution_count": 6,
   "id": "f39fee59-0a06-45b9-b5be-be0dd0f290fb",
   "metadata": {},
   "outputs": [
    {
     "name": "stdout",
     "output_type": "stream",
     "text": [
      "AI stands for Artificial Intelligence, which refers to the development of computer systems that can perform tasks that typically require human intelligence.\n",
      "\n",
      "But what do you think about the ethics of creating intelligent machines? Do you think we should be concerned about their potential impact on society?\n"
     ]
    }
   ],
   "source": [
    "print(custom_response)"
   ]
  },
  {
   "cell_type": "code",
   "execution_count": null,
   "id": "610133f9-af15-4df6-85cc-5dd41ab2008e",
   "metadata": {},
   "outputs": [],
   "source": []
  },
  {
   "cell_type": "code",
   "execution_count": null,
   "id": "a29ffca1-43b6-499e-a0b3-5499057f3d59",
   "metadata": {},
   "outputs": [],
   "source": []
  }
 ],
 "metadata": {
  "kernelspec": {
   "display_name": "Python (LLM)",
   "language": "python",
   "name": "llm"
  },
  "language_info": {
   "codemirror_mode": {
    "name": "ipython",
    "version": 3
   },
   "file_extension": ".py",
   "mimetype": "text/x-python",
   "name": "python",
   "nbconvert_exporter": "python",
   "pygments_lexer": "ipython3",
   "version": "3.11.9"
  }
 },
 "nbformat": 4,
 "nbformat_minor": 5
}
